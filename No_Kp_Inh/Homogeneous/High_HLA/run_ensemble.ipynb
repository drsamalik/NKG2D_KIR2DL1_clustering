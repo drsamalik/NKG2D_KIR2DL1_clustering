{
 "cells": [
  {
   "cell_type": "code",
   "execution_count": 5,
   "metadata": {},
   "outputs": [],
   "source": [
    "import os, sys, shutil, functools, hashlib, glob\n",
    "import numpy as np\n",
    "from  time import sleep\n",
    "import random\n",
    "from run_spparks import setup_run"
   ]
  },
  {
   "cell_type": "code",
   "execution_count": 2,
   "metadata": {},
   "outputs": [],
   "source": [
    "# Load the autoreload extension\n",
    "%load_ext autoreload\n",
    "%autoreload 2\n",
    "%reload_ext autoreload"
   ]
  },
  {
   "cell_type": "code",
   "execution_count": 6,
   "metadata": {},
   "outputs": [
    {
     "name": "stdout",
     "output_type": "stream",
     "text": [
      "/gpfs0/home1/gddaslab/sxa126/NKR_Nano_Clustering/NKR_NKG2D_Codes/No_Kp_Inh/Homogeneous/High_HLA/Ulbp_20\n",
      "Submitted batch job 6695966\n",
      "Done\n"
     ]
    }
   ],
   "source": [
    "ensembles =  1\n",
    "time_pts = 6\n",
    "Nx = 91\n",
    "Ny = 91\n",
    "Nz = 1\n",
    "random.seed(0)\n",
    "current_path = os.getcwd()\n",
    "Ulbps = [20]#,40,100,150,200,300,400]\n",
    "for j in Ulbps:\n",
    "    inner_path = f'{current_path}/Ulbp_{j}'\n",
    "    os.makedirs(inner_path, exist_ok=True)\n",
    "    print(inner_path)\n",
    "    for ensemble in range(ensembles):\n",
    "        setup_run(ensemble,time_pts,Nx,Ny,Nz,inner_path)\n",
    "        os.system(f\"sbatch {inner_path}/Run_main/Run_Sim/run_sim_\"+str(ensemble)+\".sh\")\n",
    "print('Done')"
   ]
  },
  {
   "cell_type": "code",
   "execution_count": null,
   "metadata": {},
   "outputs": [],
   "source": []
  }
 ],
 "metadata": {
  "kernelspec": {
   "display_name": "Python 3",
   "language": "python",
   "name": "python3"
  },
  "language_info": {
   "codemirror_mode": {
    "name": "ipython",
    "version": 3
   },
   "file_extension": ".py",
   "mimetype": "text/x-python",
   "name": "python",
   "nbconvert_exporter": "python",
   "pygments_lexer": "ipython3",
   "version": "3.11.8"
  }
 },
 "nbformat": 4,
 "nbformat_minor": 2
}
