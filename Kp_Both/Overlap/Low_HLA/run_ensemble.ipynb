{
 "cells": [
  {
   "cell_type": "code",
   "execution_count": 1,
   "metadata": {},
   "outputs": [],
   "source": [
    "import os, sys, shutil, functools, hashlib, glob\n",
    "import numpy as np\n",
    "from  time import sleep\n",
    "import random\n",
    "from rand_NKG_KIR_mixing import disjoint_mixing\n",
    "from rand_sppark import rand_init_species\n",
    "from run_spparks import setup_run"
   ]
  },
  {
   "cell_type": "code",
   "execution_count": 2,
   "metadata": {},
   "outputs": [],
   "source": [
    "# Load the autoreload extension\n",
    "%load_ext autoreload\n",
    "%autoreload 2\n",
    "%reload_ext autoreload"
   ]
  },
  {
   "cell_type": "code",
   "execution_count": 3,
   "metadata": {},
   "outputs": [
    {
     "name": "stdout",
     "output_type": "stream",
     "text": [
      "/gpfs0/home1/gddaslab/sxa126/NKR_Nano_Clustering/NKR_NKG2D_Codes/Kp_Both/Overlap/Low_HLA/Ulbp_20\n",
      "Submitted batch job 6695580\n",
      "Done\n"
     ]
    }
   ],
   "source": [
    "debug_flag = False\n",
    "ensembles =  1\n",
    "time_pts = 6\n",
    "Nx = 91\n",
    "Ny = 91\n",
    "Nz = 1\n",
    "dim = (Nx,Ny,Nz)\n",
    "in_pxl = 0.04\n",
    "nkg2d = 53\n",
    "kir = 11686\n",
    "hla = 4213\n",
    "lck = 32064\n",
    "vav = 18351\n",
    "shp = 49871\n",
    "random.seed(0)\n",
    "current_path = os.getcwd()\n",
    "Ulbps = [20]#,40,100,150,200,300,400]\n",
    "for Ulbp in Ulbps:\n",
    "    inner_path = f'{current_path}/Ulbp_{Ulbp}'\n",
    "    os.makedirs(inner_path, exist_ok=True)\n",
    "    print(inner_path)\n",
    "    for ensemble in range(ensembles):\n",
    "        disjoint_mixing(ensemble,dim,in_pxl,inner_path)\n",
    "        rand_init_species(ensemble,nkg2d,kir,Ulbp,hla,lck,vav,shp,dim,inner_path)\n",
    "        setup_run(ensemble,time_pts,Nx,Ny,Nz,inner_path)\n",
    "        os.system(f\"sbatch {inner_path}/Run_main/Run_Sim/run_sim_\"+str(ensemble)+\".sh\")\n",
    "print('Done')"
   ]
  }
 ],
 "metadata": {
  "kernelspec": {
   "display_name": "Python 3",
   "language": "python",
   "name": "python3"
  },
  "language_info": {
   "codemirror_mode": {
    "name": "ipython",
    "version": 3
   },
   "file_extension": ".py",
   "mimetype": "text/x-python",
   "name": "python",
   "nbconvert_exporter": "python",
   "pygments_lexer": "ipython3",
   "version": "3.11.8"
  }
 },
 "nbformat": 4,
 "nbformat_minor": 2
}
