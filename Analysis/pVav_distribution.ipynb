{
 "cells": [
  {
   "cell_type": "code",
   "execution_count": 1,
   "metadata": {},
   "outputs": [],
   "source": [
    "import os\n",
    "import numpy as np\n",
    "import pandas as pd\n",
    "import glob\n",
    "import re"
   ]
  },
  {
   "cell_type": "code",
   "execution_count": 2,
   "metadata": {},
   "outputs": [],
   "source": [
    "pVav_columns = np.array([12,15,25,26,32,33,34,35])-1\n",
    "def Reading_log_file(log_file):\n",
    "    pVav_data_time = []\n",
    "    with open(log_file, \"r\") as file:\n",
    "        capture = False  # Flag to start capturing data\n",
    "        for line in file:\n",
    "            if \"Loop time\" in line:\n",
    "                break  # Stop reading when \"Loop time\" is encountered\n",
    "\n",
    "            if \"Time\" in line and \"Naccept\" in line and \"Nreject\" in line:\n",
    "                capture = True  # Start capturing from this line onwards\n",
    "                continue  # Skip header line\n",
    "\n",
    "            if capture:\n",
    "                values = re.split(r'\\s+', line.strip())  # Split line into values\n",
    "                int_data = list(map(lambda x: int(float(x)), values))\n",
    "                init_data = np.array(int_data[6:])\n",
    "                sublist = np.array([init_data[i] for i in pVav_columns])\n",
    "                pVav_data_time.append(sublist.sum())\n",
    "    return pVav_data_time\n",
    "def species_dist(file_path):\n",
    "    pVav_ensemble_time = []\n",
    "    for i in range(1000):\n",
    "        if os.path.exists(f'{file_path}/log.spparktts_{i}'):\n",
    "            os.rename(f'{file_path}/log.spparktts_{i}',f'{file_path}/log.spparks_{i}')\n",
    "        log_spparks = f'{file_path}/log.spparks_{i}'\n",
    "        pVav_ensemble_time.append(Reading_log_file(log_spparks))\n",
    "    return np.array(pVav_ensemble_time)\n"
   ]
  },
  {
   "cell_type": "code",
   "execution_count": 4,
   "metadata": {},
   "outputs": [],
   "source": [
    "HLA_condns = ['Low_HLA','High_HLA']\n",
    "folder_names = ['Ulbp_20','Ulbp_40','Ulbp_100','Ulbp_150','Ulbp_200','Ulbp_300','Ulbp_400']\n",
    "def Reading_file(path):\n",
    "    for HLA in HLA_condns:\n",
    "        for fname in folder_names:\n",
    "            file_path = f'{path}/{HLA}/{fname}/Run_main/Run_Sim'\n",
    "            pVav_ensemble_time = species_dist(file_path)\n",
    "            #print(pVav_ensemble_time)    \n",
    "            df_pVav_ensemble_time = pd.DataFrame(pVav_ensemble_time,columns=[f'time_{i}' for i in range(41)])\n",
    "            df_pVav_ensemble_time.to_csv(f'{path}/{HLA}/{fname}/pVav_number_w_time.csv')"
   ]
  },
  {
   "cell_type": "code",
   "execution_count": 5,
   "metadata": {},
   "outputs": [],
   "source": [
    "current_path = os.getcwd()\n",
    "\n",
    "cluster_condns = ['Disjoint','Homogeneous','Overlap']\n",
    "for Kp_cond in \n",
    "for clus in cluster_condns:\n",
    "    path = f'{current_path}/{clus}'\n",
    "    Reading_file(path)"
   ]
  }
 ],
 "metadata": {
  "kernelspec": {
   "display_name": "Python 3",
   "language": "python",
   "name": "python3"
  },
  "language_info": {
   "codemirror_mode": {
    "name": "ipython",
    "version": 3
   },
   "file_extension": ".py",
   "mimetype": "text/x-python",
   "name": "python",
   "nbconvert_exporter": "python",
   "pygments_lexer": "ipython3",
   "version": "3.11.8"
  }
 },
 "nbformat": 4,
 "nbformat_minor": 2
}
